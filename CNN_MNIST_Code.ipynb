{
  "nbformat": 4,
  "nbformat_minor": 0,
  "metadata": {
    "colab": {
      "name": "CNN MNIST Code.ipynb",
      "private_outputs": true,
      "provenance": [],
      "collapsed_sections": [],
      "include_colab_link": true
    },
    "kernelspec": {
      "name": "python3",
      "display_name": "Python 3"
    },
    "language_info": {
      "name": "python"
    },
    "accelerator": "GPU"
  },
  "cells": [
    {
      "cell_type": "markdown",
      "metadata": {
        "id": "view-in-github",
        "colab_type": "text"
      },
      "source": [
        "<a href=\"https://colab.research.google.com/github/No1-Park/AI-introduction-Practices/blob/main/CNN_MNIST_Code.ipynb\" target=\"_parent\"><img src=\"https://colab.research.google.com/assets/colab-badge.svg\" alt=\"Open In Colab\"/></a>"
      ]
    },
    {
      "cell_type": "code",
      "metadata": {
        "id": "8jkO5JF-a6As"
      },
      "source": [
        "# 사용할 라이브러리 불러 오기\n",
        "\n",
        "import numpy as np                                         \n",
        "from keras.utils import np_utils                           # 숫자-> One-hot Vector 를 위한 라이브러리\n",
        "from keras.datasets import mnist                           # MNISt Dataset을 가져오기 위한 라이브러리\n",
        "from keras.models import Sequential                        # 순차적인 모델을 만들기 위한 Sequential 함수\n",
        "from keras.layers import Dense, Activation                 # 필요한 충돌을 가지고 있는 layers 라이브러리\n",
        "from keras.layers import Conv2D, MaxPooling2D, Flatten     # \n",
        "from google.colab.patches import cv2_imshow                # Google Colab에서 이미지를 보기 위한 cv2_imshow함수\n",
        "import matplotlib.pyplot as plt"
      ],
      "execution_count": null,
      "outputs": []
    },
    {
      "cell_type": "code",
      "metadata": {
        "id": "YW7Q5tqf4oas"
      },
      "source": [
        ""
      ],
      "execution_count": null,
      "outputs": []
    },
    {
      "cell_type": "code",
      "metadata": {
        "id": "9E5LFT6vbGtS"
      },
      "source": [
        "# Keras 라이브러리 자체에서 제공하는 MNIST 데이터셋을 가져온다\n",
        "\n",
        "(x_train, y_train), (x_test, y_test) = mnist.load_data()\n",
        "\n",
        "print('x_train :', np.shape(x_train))\n",
        "print('y_train :', np.shape(y_train))\n",
        "\n",
        "for i in range(10):\n",
        "  cv2_imshow(x_test[i])\n"
      ],
      "execution_count": null,
      "outputs": []
    },
    {
      "cell_type": "code",
      "metadata": {
        "id": "Zgl00_VRbGvp"
      },
      "source": [
        "x_train = x_train.reshape(60000, 28, 28, 1).astype('float32') / 255.0\n",
        "x_test = x_test.reshape(10000, 28, 28, 1).astype('float32') / 255.0"
      ],
      "execution_count": null,
      "outputs": []
    },
    {
      "cell_type": "code",
      "metadata": {
        "id": "meX3GbusS4zH"
      },
      "source": [
        "y_train = np_utils.to_categorical(y_train)\n",
        "y_test = np_utils.to_categorical(y_test)\n",
        "\n",
        "print('y_train :', np.shape(y_train))"
      ],
      "execution_count": null,
      "outputs": []
    },
    {
      "cell_type": "code",
      "metadata": {
        "id": "qEJnEFzjStZs"
      },
      "source": [
        "x_valid = x_train[50000:]\n",
        "y_valid = y_train[50000:]\n",
        "x_train = x_train[:50000]\n",
        "y_train = y_train[:50000]\n",
        "\n",
        "print('x_train :', np.shape(x_train))\n",
        "print('x_valid :', np.shape(x_valid))"
      ],
      "execution_count": null,
      "outputs": []
    },
    {
      "cell_type": "code",
      "metadata": {
        "id": "x75TbHvlbGxx"
      },
      "source": [
        "width = 28\n",
        "height = 28\n",
        "channel = 1\n",
        "\n",
        "model = Sequential(name='MNIST_CNN')\n",
        "model.add(Conv2D(filters=32, kernel_size=(3, 3), activation='relu', \n",
        "                 input_shape=(width, height, channel)))\n",
        "model.add(Conv2D(filters=32, kernel_size=(3, 3), activation='relu'))\n",
        "\n",
        "model.add(MaxPooling2D(pool_size=(2, 2)))\n",
        "\n",
        "model.add(Conv2D(filters=64, kernel_size=(3, 3), activation='relu'))\n",
        "model.add(Conv2D(filters=64, kernel_size=(3, 3), activation='relu'))\n",
        "\n",
        "model.add(MaxPooling2D(pool_size=(2, 2)))\n",
        "\n",
        "model.add(Flatten())\n",
        "\n",
        "model.add(Dense(512, activation='relu'))\n",
        "model.add(Dense(10, activation='softmax'))\n",
        "\n",
        "model.summary()"
      ],
      "execution_count": null,
      "outputs": []
    },
    {
      "cell_type": "code",
      "metadata": {
        "id": "3U8uwkf5bG0R"
      },
      "source": [
        "model.compile(loss='categorical_crossentropy', optimizer='sgd', metrics=['accuracy'])\n",
        "\n",
        "hist = model.fit(x_train, y_train,\n",
        "                 epochs=10,\n",
        "                 batch_size=32,\n",
        "                 validation_data=(x_valid, y_valid))"
      ],
      "execution_count": null,
      "outputs": []
    },
    {
      "cell_type": "code",
      "metadata": {
        "id": "9vijH4eObG2p"
      },
      "source": [
        "plt.plot(hist.history['loss'], 'y', label='train loss')\n",
        "plt.plot(hist.history['val_loss'], 'r', label='val loss')\n",
        "\n",
        "plt.ylim([0.0, 0.6])\n",
        "\n",
        "plt.xlabel('epoch')\n",
        "plt.ylabel('loss')\n",
        "\n",
        "plt.legend(loc='upper right')\n",
        "\n",
        "plt.show()"
      ],
      "execution_count": null,
      "outputs": []
    },
    {
      "cell_type": "code",
      "metadata": {
        "id": "3MstlIl4bG45"
      },
      "source": [
        "plt.plot(hist.history['accuracy'], 'b', label='train accuracy')\n",
        "plt.plot(hist.history['val_accuracy'], 'g', label='val accuracy')\n",
        "\n",
        "plt.ylim([0.8, 1.0])\n",
        "\n",
        "plt.xlabel('epoch')\n",
        "plt.ylabel('accurary')\n",
        "\n",
        "plt.legend(loc='lower right')\n",
        "\n",
        "plt.show()"
      ],
      "execution_count": null,
      "outputs": []
    },
    {
      "cell_type": "code",
      "metadata": {
        "id": "EIEVeKNHbG7J"
      },
      "source": [
        "loss_and_acc = model.evaluate(x_test, y_test, batch_size=32)\n",
        "print('Test: Loss and Accuracy')\n",
        "print(loss_and_acc)"
      ],
      "execution_count": null,
      "outputs": []
    },
    {
      "cell_type": "code",
      "metadata": {
        "id": "QQZZtQQPyGOf"
      },
      "source": [
        "# 모델을 직접 써보자\n",
        " # Test Set 20개를 맞춰보자\n",
        "for i in range(20):\n",
        "  \n",
        "  # predict()를 통해 입력을 모델에 통과시킬 수 있다\n",
        "  # output은 softmax의 출력으로 10개의 값을 갖느다\n",
        "  output = model.predict(x_test[i].reshape(1,28, 28, 1))\n",
        "  # predict()의 입력은 맨 앞에 차원을 하나 추가해줘야 한다.\n",
        "  \n",
        "  # 이미지를 보기 위해 다시 사각형으로 만들고, 다시 255를 곱해준다.\n",
        "  cv2_imshow(x_test[i].reshape(28, 28) * 255)\n",
        "  \n",
        "  # argmax() 함수는 가장 최댓값을 갖는 Index(번째)를 찾아준다.\n",
        "  print('예상 숫자 분류 :', np.argmax(output))\n",
        "  \n",
        "  # 모델의 출력과 실제 값을 비교 후 다르면 문장을 출력한다.\n",
        "  if np.argmax(output) != np.argmax(y_test[i]) :\n",
        "    print('틀렸습니다!')"
      ],
      "execution_count": null,
      "outputs": []
    },
    {
      "cell_type": "code",
      "metadata": {
        "id": "Y8mF09OGyGQ_"
      },
      "source": [
        "from google.colab import drive\n",
        "drive.mount('/gdrive', force_remount=True)"
      ],
      "execution_count": null,
      "outputs": []
    },
    {
      "cell_type": "code",
      "metadata": {
        "id": "NBYf6hBryGTP"
      },
      "source": [
        "model.save('/gdrive/My Drive/Mnist_CNN.h5')"
      ],
      "execution_count": null,
      "outputs": []
    },
    {
      "cell_type": "code",
      "metadata": {
        "id": "OcniqbaO2TDD"
      },
      "source": [
        "from IPython.display import SVG\n",
        "from keras.utils.vis_utils import model_to_dot\n",
        "\n",
        "%matplotlib inline\n",
        "\n",
        "SVG(model_to_dot(model, show_shapes=True).create(prog='dot', format='svg'))"
      ],
      "execution_count": null,
      "outputs": []
    }
  ]
}