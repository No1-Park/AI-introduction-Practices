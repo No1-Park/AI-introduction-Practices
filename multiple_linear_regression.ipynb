{
  "nbformat": 4,
  "nbformat_minor": 0,
  "metadata": {
    "colab": {
      "name": "multiple_linear_regression.ipynb",
      "private_outputs": true,
      "provenance": [],
      "collapsed_sections": [],
      "mount_file_id": "10ZYIIjDXcxKsmtD5C6rN7DSaaAxGHmm0",
      "authorship_tag": "ABX9TyM+qBeLahLy54T1ukgzE66B",
      "include_colab_link": true
    },
    "kernelspec": {
      "name": "python3",
      "display_name": "Python 3"
    },
    "language_info": {
      "name": "python"
    }
  },
  "cells": [
    {
      "cell_type": "markdown",
      "metadata": {
        "id": "view-in-github",
        "colab_type": "text"
      },
      "source": [
        "<a href=\"https://colab.research.google.com/github/No1-Park/AI-introduction-Practices/blob/main/multiple_linear_regression.ipynb\" target=\"_parent\"><img src=\"https://colab.research.google.com/assets/colab-badge.svg\" alt=\"Open In Colab\"/></a>"
      ]
    },
    {
      "cell_type": "code",
      "metadata": {
        "id": "KoYom6h-sVDs"
      },
      "source": [
        "from sklearn.linear_model import LinearRegression\n",
        "import pandas as pd\n",
        "import numpy as np\n",
        "import matplotlib.pyplot as plt\n",
        "import sklearn\n",
        "import seaborn as sns"
      ],
      "execution_count": null,
      "outputs": []
    },
    {
      "cell_type": "code",
      "metadata": {
        "id": "-XX92JJ0tVzg"
      },
      "source": [
        "from sklearn.datasets import load_boston\n",
        "boston = load_boston()\n",
        "boston.keys()"
      ],
      "execution_count": null,
      "outputs": []
    },
    {
      "cell_type": "code",
      "metadata": {
        "id": "TYRHTI2gtjEg"
      },
      "source": [
        "print(boston.data.shape, boston.target.shape)\n",
        "print(boston.feature_names)"
      ],
      "execution_count": null,
      "outputs": []
    },
    {
      "cell_type": "code",
      "metadata": {
        "id": "6ah040y_umFw"
      },
      "source": [
        "dfx = pd.DataFrame(boston.data, columns=boston.feature_names)\n",
        "dfy = pd.DataFrame(boston.target, columns=[\"MEDV\"])\n",
        "boston_df = pd.concat([dfx, dfy], axis=1)\n",
        "boston_df.tail()"
      ],
      "execution_count": null,
      "outputs": []
    },
    {
      "cell_type": "code",
      "metadata": {
        "id": "JCngckFX-4Wh"
      },
      "source": [
        "from sklearn.model_selection import train_test_split\n",
        "x = boston_df[['CRIM', 'ZN', 'INDUS', 'CHAS', 'NOX', 'RM', 'AGE', 'DIS', 'RAD', 'TAX', 'PTRATIO', 'B' ,'LSTAT']]\n",
        "y = boston_df[['MEDV']]\n",
        "x_train, x_test, y_train, y_test = train_test_split(x, y, train_size = 0.8, test_size = 0.2)"
      ],
      "execution_count": null,
      "outputs": []
    },
    {
      "cell_type": "code",
      "metadata": {
        "id": "V9lCYbLB-oPp"
      },
      "source": [
        "from sklearn.linear_model import LinearRegression\n",
        "\n",
        "mtrg = LinearRegression()\n",
        "mtrg.fit(x_train, y_train)"
      ],
      "execution_count": null,
      "outputs": []
    },
    {
      "cell_type": "code",
      "metadata": {
        "id": "ozsyUOU2PYSU"
      },
      "source": [
        "my_apt = [[0.07,\t0,\t12,\t0,\t0.5,\t4,\t50,\t2.8,\t1,\t200,\t20,\t300,\t5]]\n",
        "my_predict = mtrg.predict(my_apt)\n",
        "print(my_predict)"
      ],
      "execution_count": null,
      "outputs": []
    },
    {
      "cell_type": "code",
      "metadata": {
        "id": "2Wn-3Tix-mDh"
      },
      "source": [
        "print(mtrg.score(x_train, y_train))\n",
        "print(mtrg.coef_)\n",
        "print(mtrg.intercept_)"
      ],
      "execution_count": null,
      "outputs": []
    },
    {
      "cell_type": "code",
      "metadata": {
        "id": "76X3MIs1L1sD"
      },
      "source": [
        "y_predict = mtrg.predict(x_test)\n",
        "import matplotlib.pyplot as plt\n",
        "plt.scatter(y_test, y_predict, alpha=0.5)\n",
        "plt.xlabel(\"Actual Rent\")\n",
        "plt.ylabel(\"Predicted Rent\")\n",
        "plt.title(\"Multiple Linear Regression\")\n",
        "plt.show()"
      ],
      "execution_count": null,
      "outputs": []
    },
    {
      "cell_type": "code",
      "metadata": {
        "id": "tir1NWQ8JLkN"
      },
      "source": [
        "sns.pairplot(boston_df[['LSTAT','RM','AGE','MEDV']])\n",
        "plt.show()"
      ],
      "execution_count": null,
      "outputs": []
    },
    {
      "cell_type": "code",
      "metadata": {
        "id": "l4pw76fl5DSL"
      },
      "source": [
        ""
      ],
      "execution_count": null,
      "outputs": []
    },
    {
      "cell_type": "code",
      "metadata": {
        "id": "DYt673sV4Tkr"
      },
      "source": [
        ""
      ],
      "execution_count": null,
      "outputs": []
    },
    {
      "cell_type": "code",
      "metadata": {
        "id": "2oHSXH3Gt2NA"
      },
      "source": [
        ""
      ],
      "execution_count": null,
      "outputs": []
    },
    {
      "cell_type": "code",
      "metadata": {
        "id": "7HzcAi5-tyKh"
      },
      "source": [
        ""
      ],
      "execution_count": null,
      "outputs": []
    },
    {
      "cell_type": "code",
      "metadata": {
        "id": "wByAyANRtqko"
      },
      "source": [
        ""
      ],
      "execution_count": null,
      "outputs": []
    }
  ]
}